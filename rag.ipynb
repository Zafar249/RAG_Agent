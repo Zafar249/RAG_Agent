{
 "cells": [
  {
   "cell_type": "code",
   "execution_count": 1,
   "metadata": {},
   "outputs": [],
   "source": [
    "from langchain_google_genai import ChatGoogleGenerativeAI\n",
    "from langchain_text_splitters.character import RecursiveCharacterTextSplitter\n",
    "from langgraph.prebuilt import create_react_agent\n",
    "from langchain_core.tools import Tool\n",
    "from dotenv import load_dotenv\n",
    "from pypdf import PdfReader"
   ]
  },
  {
   "cell_type": "code",
   "execution_count": 2,
   "metadata": {},
   "outputs": [],
   "source": [
    "file = open(\"C:\\\\Users\\\\Zafar\\\\Downloads\\\\AIML_Task_1[1].pdf\",\"rb\")\n",
    "content = \"\"\n",
    "# Create a pdf reader object\n",
    "reader = PdfReader(file)\n",
    "\n",
    "for page in reader.pages:\n",
    "    # For each page in the pdf add it to the content string\n",
    "    content += page.extract_text()\n",
    "\n",
    "# Create a recursive text splitter object\n",
    "splitter = RecursiveCharacterTextSplitter(\n",
    "    separators=[\"\\n\\n\",\"\\n\",\".\"],  # Characters on which to split the text\n",
    "    chunk_size = 200, # Number of words in a chunk\n",
    "    chunk_overlap = 50  # Numbers of words which will be overlapped with the previous chunk\n",
    ")\n",
    "\n",
    "chunks = splitter.split_text(content)"
   ]
  },
  {
   "cell_type": "code",
   "execution_count": 3,
   "metadata": {},
   "outputs": [],
   "source": [
    "from pinecone import Pinecone, ServerlessSpec\n",
    "from sentence_transformers import SentenceTransformer\n",
    "import os\n",
    "from dotenv import load_dotenv\n",
    "\n",
    "# Load the environment variables\n",
    "load_dotenv()\n",
    "\n",
    "api_key = os.environ[\"PINECONE_API_KEY\"]\n",
    "\n",
    "# Initialize a pinecone client\n",
    "client = Pinecone(api_key=api_key)  \n",
    "\n",
    "# Create a dense index with seperate embeddings\n",
    "index_name = \"storage-py\"   \n",
    "\n",
    "# Load the model for generating sentence embeddings\n",
    "model = SentenceTransformer(\"sentence-transformers/all-MiniLM-L6-v2\")"
   ]
  },
  {
   "cell_type": "code",
   "execution_count": 4,
   "metadata": {},
   "outputs": [],
   "source": [
    "if not client.has_index(index_name):\n",
    "    client.create_index(\n",
    "        name = index_name,\n",
    "        dimension=384,\n",
    "        metric=\"cosine\",\n",
    "        spec=ServerlessSpec(\n",
    "            cloud=\"aws\",\n",
    "            region=\"us-east-1\",\n",
    "        ),\n",
    "    )"
   ]
  },
  {
   "cell_type": "code",
   "execution_count": 5,
   "metadata": {},
   "outputs": [
    {
     "name": "stderr",
     "output_type": "stream",
     "text": [
      "d:\\Codes\\ai-engineer-roadmap-2025\\.venv\\lib\\site-packages\\torch\\nn\\modules\\module.py:1762: FutureWarning: `encoder_attention_mask` is deprecated and will be removed in version 4.55.0 for `BertSdpaSelfAttention.forward`.\n",
      "  return forward_call(*args, **kwargs)\n"
     ]
    }
   ],
   "source": [
    "records = []\n",
    "\n",
    "embeddings = model.encode(chunks)\n",
    "\n",
    "# Iterate over each chunk adding it to the vector database\n",
    "for i in range(len(embeddings)):\n",
    "    records.append({\"id\":\"vec\"+str(i+1),\"values\":embeddings[i].tolist(), \"metadata\":{\"chunk_text\":chunks[i]}})\n"
   ]
  },
  {
   "cell_type": "code",
   "execution_count": 6,
   "metadata": {},
   "outputs": [
    {
     "data": {
      "text/plain": [
       "'•Setting up and using theGemini API (Free Tier)for LLM access.\\n•Building a modularAI Agentusing theLangChainframework.\\n•Integrating tools that extend model capabilities:'"
      ]
     },
     "execution_count": 6,
     "metadata": {},
     "output_type": "execute_result"
    }
   ],
   "source": [
    "records[1][\"metadata\"][\"chunk_text\"]"
   ]
  },
  {
   "cell_type": "code",
   "execution_count": 7,
   "metadata": {},
   "outputs": [
    {
     "data": {
      "text/plain": [
       "{'upserted_count': 31}"
      ]
     },
     "execution_count": 7,
     "metadata": {},
     "output_type": "execute_result"
    }
   ],
   "source": [
    "dense_index = client.Index(index_name)\n",
    "\n",
    "# Upsert the records into a namespace\n",
    "dense_index.upsert(namespace=\"example-namespace\", vectors=records)"
   ]
  },
  {
   "cell_type": "code",
   "execution_count": 8,
   "metadata": {},
   "outputs": [
    {
     "name": "stderr",
     "output_type": "stream",
     "text": [
      "d:\\Codes\\ai-engineer-roadmap-2025\\.venv\\lib\\site-packages\\torch\\nn\\modules\\module.py:1762: FutureWarning: `encoder_attention_mask` is deprecated and will be removed in version 4.55.0 for `BertSdpaSelfAttention.forward`.\n",
      "  return forward_call(*args, **kwargs)\n"
     ]
    },
    {
     "name": "stdout",
     "output_type": "stream",
     "text": [
      "\n"
     ]
    }
   ],
   "source": [
    "query = model.encode(\"What is the objective of the project?\").tolist()\n",
    "\n",
    "# Target the index\n",
    "dense_index = client.Index(index_name)\n",
    "\n",
    "results = dense_index.query(\n",
    "namespace=\"example-namespace\",\n",
    "vector = query,\n",
    "top_k=3,\n",
    "include_values=True,\n",
    "include_metadata=True\n",
    ")\n",
    "\n",
    "context = \"\"\n",
    "# Add the text of each relevant chunk to the context\n",
    "for hit in results[\"matches\"]:\n",
    "    context += hit[\"metadata\"][\"chunk_text\"]\n",
    "\n",
    "print(context)"
   ]
  },
  {
   "cell_type": "code",
   "execution_count": 9,
   "metadata": {},
   "outputs": [],
   "source": [
    "def query_vector_db(text):\n",
    "    global model, client\n",
    "    query = model.encode(text).tolist()\n",
    "\n",
    "    # Target the index\n",
    "    dense_index = client.Index(index_name)\n",
    "\n",
    "    results = dense_index.query(\n",
    "    namespace=\"example-namespace\",\n",
    "    vector = query,\n",
    "    top_k=3,\n",
    "    include_values=True,\n",
    "    include_metadata=True\n",
    "    )\n",
    "\n",
    "    context = preprocess(results)\n",
    "    return context\n",
    "\n",
    "def preprocess(results):\n",
    "    context = \"\"\n",
    "    # Add the text of each relevant chunk to the context\n",
    "    for hit in results[\"matches\"]:\n",
    "        context += hit[\"metadata\"][\"chunk_text\"]\n",
    "\n",
    "    return context"
   ]
  },
  {
   "cell_type": "code",
   "execution_count": 10,
   "metadata": {},
   "outputs": [],
   "source": [
    "from langchain_tavily import TavilySearch\n",
    "\n",
    "def query_tool(text):\n",
    "    \"\"\"\n",
    "    RAG Tool to retrieve information from the indexed PDF in Pinecone.\n",
    "    This tool does NOT access any local files. It searches within the\n",
    "    PDF content that has already been embedded and stored.\n",
    "    \"\"\"\n",
    "\n",
    "    # Carry out the user's query on the database\n",
    "    context = query_vector_db(text)\n",
    "    return context\n",
    "\n",
    "# Create an llm object using Google class and gemini 2.5 flash model\n",
    "llm = ChatGoogleGenerativeAI(model=\"gemini-2.5-flash\", temperature=0.7)\n",
    "\n",
    "\n",
    "# Create a tool object using Tavily Search\n",
    "search_tool = TavilySearch(\n",
    "    max_results = 3,\n",
    "    topic = \"general\",\n",
    "    \n",
    ")\n",
    "\n",
    "rag_tool = Tool(\n",
    "    name=\"rag\",\n",
    "    func=query_tool,\n",
    "    description=\"Use this tool to answer questions **based on the PDF content** that has already been embedded and stored in Pinecone. The user may refer to it as 'the file'.\"\n",
    ")\n",
    "\n",
    "# Create an AI agent by merging the llm with the tool\n",
    "agent = create_react_agent(llm, [search_tool, rag_tool])"
   ]
  },
  {
   "cell_type": "code",
   "execution_count": 12,
   "metadata": {},
   "outputs": [],
   "source": [
    "resp = agent.invoke({\"messages\": \"Hello\"})"
   ]
  },
  {
   "cell_type": "code",
   "execution_count": 19,
   "metadata": {},
   "outputs": [
    {
     "name": "stdout",
     "output_type": "stream",
     "text": [
      "Hello! I'm a large language model, able to assist with a wide range of tasks and questions. What can I do for you today?\n"
     ]
    }
   ],
   "source": [
    "try:\n",
    "    print(resp[\"messages\"][3].content)\n",
    "except IndexError:\n",
    "    print(resp[\"messages\"][1].content)"
   ]
  },
  {
   "cell_type": "markdown",
   "metadata": {},
   "source": []
  }
 ],
 "metadata": {
  "kernelspec": {
   "display_name": ".venv",
   "language": "python",
   "name": "python3"
  },
  "language_info": {
   "codemirror_mode": {
    "name": "ipython",
    "version": 3
   },
   "file_extension": ".py",
   "mimetype": "text/x-python",
   "name": "python",
   "nbconvert_exporter": "python",
   "pygments_lexer": "ipython3",
   "version": "3.10.11"
  }
 },
 "nbformat": 4,
 "nbformat_minor": 2
}
