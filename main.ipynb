{
 "cells": [
  {
   "cell_type": "code",
   "execution_count": 17,
   "metadata": {
    "ExecuteTime": {
     "end_time": "2025-10-19T03:47:45.796404Z",
     "start_time": "2025-10-19T03:47:45.775389Z"
    }
   },
   "outputs": [],
   "source": [
    "from langchain_google_genai import ChatGoogleGenerativeAI\n",
    "from dotenv import load_dotenv\n",
    "from langchain_tavily import TavilySearch\n",
    "from langgraph.prebuilt import create_react_agent"
   ]
  },
  {
   "cell_type": "code",
   "execution_count": 18,
   "metadata": {},
   "outputs": [
    {
     "data": {
      "text/plain": [
       "True"
      ]
     },
     "execution_count": 18,
     "metadata": {},
     "output_type": "execute_result"
    }
   ],
   "source": [
    "# Load the environment variables\n",
    "load_dotenv()"
   ]
  },
  {
   "cell_type": "code",
   "execution_count": 19,
   "metadata": {},
   "outputs": [],
   "source": [
    "# Create an llm object using Google class and gemini 2.5 flash model\n",
    "llm = ChatGoogleGenerativeAI(model=\"gemini-2.5-flash\", temperature=0.7)"
   ]
  },
  {
   "cell_type": "code",
   "execution_count": 29,
   "metadata": {},
   "outputs": [
    {
     "name": "stdout",
     "output_type": "stream",
     "text": [
      "RAG (Retrieval-Augmented Generation) enhances large language models by first retrieving relevant information from an external knowledge base based on the user's query. This retrieved context is then provided to the LLM alongside the original prompt, enabling it to generate more accurate, grounded, and up-to-date responses while reducing the likelihood of hallucinations.\n"
     ]
    }
   ],
   "source": [
    "# Make a call to the llm and print the response\n",
    "resp = llm.invoke(\"Tell me abour RAG in two sentences\")\n",
    "print(resp.content)"
   ]
  },
  {
   "cell_type": "code",
   "execution_count": 30,
   "metadata": {},
   "outputs": [
    {
     "name": "stdout",
     "output_type": "stream",
     "text": [
      "<class 'langchain_core.messages.ai.AIMessage'>\n"
     ]
    }
   ],
   "source": [
    "print(type(resp))"
   ]
  },
  {
   "cell_type": "code",
   "execution_count": 20,
   "metadata": {},
   "outputs": [],
   "source": [
    "# Create a tool object using Tavily Search\n",
    "tool = TavilySearch(\n",
    "    max_results = 1,\n",
    "    topic = \"general\"\n",
    ")"
   ]
  },
  {
   "cell_type": "code",
   "execution_count": null,
   "metadata": {},
   "outputs": [
    {
     "name": "stdout",
     "output_type": "stream",
     "text": [
      "{'query': 'Who won the 100 years war?', 'follow_up_questions': None, 'answer': None, 'images': [], 'results': [{'url': 'https://en.wikipedia.org/wiki/Hundred_Years%27_War', 'title': \"Hundred Years' War - Wikipedia\", 'content': \"The **Hundred Years' War** (French: *Guerre de Cent Ans*; 1337–1453) was a conflict between the kingdoms of England and France and a civil war in France during the Late Middle Ages. In the early years of the war, the English, led by King Edward III and his son Edward the Black Prince, saw resounding successes, notably at the battles of Crécy (1346) and Poitiers (1356), where King John II of France was taken prisoner.\", 'score': 0.8719229, 'raw_content': None}], 'response_time': 0.0, 'request_id': '35362eb5-88a0-4fac-8fd7-e3f980f42f13'}\n"
     ]
    }
   ],
   "source": [
    "# Make a call to the tool and print the response\n",
    "resp = tool.invoke({\"query\":\"Who won the 100 years war?\"})\n",
    "print(resp[\"results\"][0][\"content\"])"
   ]
  },
  {
   "cell_type": "code",
   "execution_count": 34,
   "metadata": {},
   "outputs": [],
   "source": [
    "# Create an AI agent by merging the llm with the tool\n",
    "agent = create_react_agent(llm, [tool])\n",
    "user_input = \"When did Charlie Kirk Die. Only include wikipedia sources\"\n",
    "\n"
   ]
  },
  {
   "cell_type": "code",
   "execution_count": 35,
   "metadata": {},
   "outputs": [
    {
     "name": "stdout",
     "output_type": "stream",
     "text": [
      "{'messages': [HumanMessage(content='When did Charlie Kirk Die. Only include wikipedia sources', additional_kwargs={}, response_metadata={}, id='fc0c03be-8371-4297-88f4-a336b8517ec1'), AIMessage(content='', additional_kwargs={'function_call': {'name': 'tavily_search', 'arguments': '{\"include_domains\": [\"wikipedia.com\"], \"query\": \"When did Charlie Kirk die\"}'}}, response_metadata={'prompt_feedback': {'block_reason': 0, 'safety_ratings': []}, 'finish_reason': 'STOP', 'model_name': 'gemini-2.5-flash', 'safety_ratings': []}, id='run--2d93f011-3b13-400a-8abe-6c0e0f5d4270-0', tool_calls=[{'name': 'tavily_search', 'args': {'include_domains': ['wikipedia.com'], 'query': 'When did Charlie Kirk die'}, 'id': 'ceb89602-c4d8-4652-bedc-dee4b17b8d54', 'type': 'tool_call'}], usage_metadata={'input_tokens': 1520, 'output_tokens': 101, 'total_tokens': 1621, 'input_token_details': {'cache_read': 0}, 'output_token_details': {'reasoning': 71}}), ToolMessage(content='{\"query\": \"When did Charlie Kirk die\", \"follow_up_questions\": null, \"answer\": null, \"images\": [], \"results\": [{\"url\": \"https://wikipedia.com/wiki/Clay%20Higgins\", \"title\": \"Clay Higgins\", \"content\": \"In September 2025, three days after the assassination of right-wing political activist Charlie Kirk, Higgins detailed in a post on X his plans to use Federal\", \"score\": 0.36364743, \"raw_content\": null}], \"response_time\": 1.03, \"request_id\": \"11655c83-b116-4f95-b219-befcdc703643\"}', name='tavily_search', id='57d7073a-6f80-4a15-ad9d-58da5edace6b', tool_call_id='ceb89602-c4d8-4652-bedc-dee4b17b8d54'), AIMessage(content=\"There is a Wikipedia article that mentions Charlie Kirk's assassination in September 2025, but this appears to be a fictional reference within the context of Clay Higgins' plans. There is no indication that Charlie Kirk has actually died.\", additional_kwargs={}, response_metadata={'prompt_feedback': {'block_reason': 0, 'safety_ratings': []}, 'finish_reason': 'STOP', 'model_name': 'gemini-2.5-flash', 'safety_ratings': []}, id='run--6d76b190-9c76-4b36-b0c4-3c7ab67b334f-0', usage_metadata={'input_tokens': 1731, 'output_tokens': 48, 'total_tokens': 1779, 'input_token_details': {'cache_read': 821}})]}\n"
     ]
    }
   ],
   "source": [
    "resp = agent.invoke({\"messages\":user_input})\n",
    "print(resp[\"messages\"][3].content)"
   ]
  },
  {
   "cell_type": "code",
   "execution_count": 33,
   "metadata": {},
   "outputs": [
    {
     "name": "stdout",
     "output_type": "stream",
     "text": [
      "<class 'dict'>\n"
     ]
    }
   ],
   "source": [
    "print(type(resp))"
   ]
  },
  {
   "cell_type": "code",
   "execution_count": 22,
   "metadata": {},
   "outputs": [],
   "source": [
    "from sentence_transformers import SentenceTransformer\n",
    "\n",
    "# Load the model for generating sentence embeddings\n",
    "model = SentenceTransformer(\"sentence-transformers/all-MiniLM-L6-v2\")"
   ]
  },
  {
   "cell_type": "code",
   "execution_count": 23,
   "metadata": {},
   "outputs": [
    {
     "name": "stderr",
     "output_type": "stream",
     "text": [
      "d:\\Codes\\ai-engineer-roadmap-2025\\.venv\\lib\\site-packages\\torch\\nn\\modules\\module.py:1762: FutureWarning: `encoder_attention_mask` is deprecated and will be removed in version 4.55.0 for `BertSdpaSelfAttention.forward`.\n",
      "  return forward_call(*args, **kwargs)\n"
     ]
    }
   ],
   "source": [
    "sentences = [\"This is an example sentence\", \"Each sentence is converted\", \"apple\", \"banana\", \"windows\", \"android\"]\n",
    "\n",
    "# Convert each sentence to a word embedding\n",
    "embeddings = model.encode(sentences)"
   ]
  },
  {
   "cell_type": "code",
   "execution_count": 1,
   "metadata": {},
   "outputs": [],
   "source": [
    "from pinecone import Pinecone\n",
    "\n",
    "# Initialize a Pinecone client\n",
    "client = Pinecone(api_key=\"\")"
   ]
  },
  {
   "cell_type": "code",
   "execution_count": 2,
   "metadata": {},
   "outputs": [],
   "source": [
    "# Create a dense index which has integrated embeddings\n",
    "index_name = \"quickstart-py\"\n",
    "\n",
    "# If the index with the same name does not already exist\n",
    "if not client.has_index(index_name):\n",
    "    client.create_index_for_model(\n",
    "        name=index_name,\n",
    "        cloud=\"aws\",\n",
    "        region=\"us-east-1\",\n",
    "\n",
    "        # Create embeddings using the default integrated model and map each text to a chunk text, or vector.\n",
    "        embed={\n",
    "            \"model\":\"llama-text-embed-v2\",\n",
    "            \"field_map\":{\"text\":\"chunk_text\"}\n",
    "        }\n",
    "    )"
   ]
  },
  {
   "cell_type": "code",
   "execution_count": 3,
   "metadata": {},
   "outputs": [],
   "source": [
    "records = [\n",
    "    { \"_id\": \"rec1\", \"chunk_text\": \"The Eiffel Tower was completed in 1889 and stands in Paris, France.\", \"category\": \"history\" },\n",
    "    { \"_id\": \"rec2\", \"chunk_text\": \"Photosynthesis allows plants to convert sunlight into energy.\", \"category\": \"science\" },\n",
    "    { \"_id\": \"rec3\", \"chunk_text\": \"Albert Einstein developed the theory of relativity.\", \"category\": \"science\" },\n",
    "    { \"_id\": \"rec4\", \"chunk_text\": \"The mitochondrion is often called the powerhouse of the cell.\", \"category\": \"biology\" },\n",
    "    { \"_id\": \"rec5\", \"chunk_text\": \"Shakespeare wrote many famous plays, including Hamlet and Macbeth.\", \"category\": \"literature\" },\n",
    "    { \"_id\": \"rec6\", \"chunk_text\": \"Water boils at 100°C under standard atmospheric pressure.\", \"category\": \"physics\" },\n",
    "    { \"_id\": \"rec7\", \"chunk_text\": \"The Great Wall of China was built to protect against invasions.\", \"category\": \"history\" },\n",
    "    { \"_id\": \"rec8\", \"chunk_text\": \"Honey never spoils due to its low moisture content and acidity.\", \"category\": \"food science\" },\n",
    "    { \"_id\": \"rec9\", \"chunk_text\": \"The speed of light in a vacuum is approximately 299,792 km/s.\", \"category\": \"physics\" },\n",
    "    { \"_id\": \"rec10\", \"chunk_text\": \"Newton's laws describe the motion of objects.\", \"category\": \"physics\" },\n",
    "    { \"_id\": \"rec11\", \"chunk_text\": \"The human brain has approximately 86 billion neurons.\", \"category\": \"biology\" },\n",
    "    { \"_id\": \"rec12\", \"chunk_text\": \"The Amazon Rainforest is one of the most biodiverse places on Earth.\", \"category\": \"geography\" },\n",
    "    { \"_id\": \"rec13\", \"chunk_text\": \"Black holes have gravitational fields so strong that not even light can escape.\", \"category\": \"astronomy\" },\n",
    "    { \"_id\": \"rec14\", \"chunk_text\": \"The periodic table organizes elements based on their atomic number.\", \"category\": \"chemistry\" },\n",
    "    { \"_id\": \"rec15\", \"chunk_text\": \"Leonardo da Vinci painted the Mona Lisa.\", \"category\": \"art\" },\n",
    "    { \"_id\": \"rec16\", \"chunk_text\": \"The internet revolutionized communication and information sharing.\", \"category\": \"technology\" },\n",
    "    { \"_id\": \"rec17\", \"chunk_text\": \"The Pyramids of Giza are among the Seven Wonders of the Ancient World.\", \"category\": \"history\" },\n",
    "    { \"_id\": \"rec18\", \"chunk_text\": \"Dogs have an incredible sense of smell, much stronger than humans.\", \"category\": \"biology\" },\n",
    "    { \"_id\": \"rec19\", \"chunk_text\": \"The Pacific Ocean is the largest and deepest ocean on Earth.\", \"category\": \"geography\" },\n",
    "    { \"_id\": \"rec20\", \"chunk_text\": \"Chess is a strategic game that originated in India.\", \"category\": \"games\" },\n",
    "    { \"_id\": \"rec21\", \"chunk_text\": \"The Statue of Liberty was a gift from France to the United States.\", \"category\": \"history\" },\n",
    "    { \"_id\": \"rec22\", \"chunk_text\": \"Coffee contains caffeine, a natural stimulant.\", \"category\": \"food science\" },\n",
    "    { \"_id\": \"rec23\", \"chunk_text\": \"Thomas Edison invented the practical electric light bulb.\", \"category\": \"inventions\" },\n",
    "    { \"_id\": \"rec24\", \"chunk_text\": \"The moon influences ocean tides due to gravitational pull.\", \"category\": \"astronomy\" },\n",
    "    { \"_id\": \"rec25\", \"chunk_text\": \"DNA carries genetic information for all living organisms.\", \"category\": \"biology\" },\n",
    "    { \"_id\": \"rec26\", \"chunk_text\": \"Rome was once the center of a vast empire.\", \"category\": \"history\" },\n",
    "    { \"_id\": \"rec27\", \"chunk_text\": \"The Wright brothers pioneered human flight in 1903.\", \"category\": \"inventions\" },\n",
    "    { \"_id\": \"rec28\", \"chunk_text\": \"Bananas are a good source of potassium.\", \"category\": \"nutrition\" },\n",
    "    { \"_id\": \"rec29\", \"chunk_text\": \"The stock market fluctuates based on supply and demand.\", \"category\": \"economics\" },\n",
    "    { \"_id\": \"rec30\", \"chunk_text\": \"A compass needle points toward the magnetic north pole.\", \"category\": \"navigation\" },\n",
    "    { \"_id\": \"rec31\", \"chunk_text\": \"The universe is expanding, according to the Big Bang theory.\", \"category\": \"astronomy\" },\n",
    "    { \"_id\": \"rec32\", \"chunk_text\": \"Elephants have excellent memory and strong social bonds.\", \"category\": \"biology\" },\n",
    "    { \"_id\": \"rec33\", \"chunk_text\": \"The violin is a string instrument commonly used in orchestras.\", \"category\": \"music\" },\n",
    "    { \"_id\": \"rec34\", \"chunk_text\": \"The heart pumps blood throughout the human body.\", \"category\": \"biology\" },\n",
    "    { \"_id\": \"rec35\", \"chunk_text\": \"Ice cream melts when exposed to heat.\", \"category\": \"food science\" },\n",
    "    { \"_id\": \"rec36\", \"chunk_text\": \"Solar panels convert sunlight into electricity.\", \"category\": \"technology\" },\n",
    "    { \"_id\": \"rec37\", \"chunk_text\": \"The French Revolution began in 1789.\", \"category\": \"history\" },\n",
    "    { \"_id\": \"rec38\", \"chunk_text\": \"The Taj Mahal is a mausoleum built by Emperor Shah Jahan.\", \"category\": \"history\" },\n",
    "    { \"_id\": \"rec39\", \"chunk_text\": \"Rainbows are caused by light refracting through water droplets.\", \"category\": \"physics\" },\n",
    "    { \"_id\": \"rec40\", \"chunk_text\": \"Mount Everest is the tallest mountain in the world.\", \"category\": \"geography\" },\n",
    "    { \"_id\": \"rec41\", \"chunk_text\": \"Octopuses are highly intelligent marine creatures.\", \"category\": \"biology\" },\n",
    "    { \"_id\": \"rec42\", \"chunk_text\": \"The speed of sound is around 343 meters per second in air.\", \"category\": \"physics\" },\n",
    "    { \"_id\": \"rec43\", \"chunk_text\": \"Gravity keeps planets in orbit around the sun.\", \"category\": \"astronomy\" },\n",
    "    { \"_id\": \"rec44\", \"chunk_text\": \"The Mediterranean diet is considered one of the healthiest in the world.\", \"category\": \"nutrition\" },\n",
    "    { \"_id\": \"rec45\", \"chunk_text\": \"A haiku is a traditional Japanese poem with a 5-7-5 syllable structure.\", \"category\": \"literature\" },\n",
    "    { \"_id\": \"rec46\", \"chunk_text\": \"The human body is made up of about 60% water.\", \"category\": \"biology\" },\n",
    "    { \"_id\": \"rec47\", \"chunk_text\": \"The Industrial Revolution transformed manufacturing and transportation.\", \"category\": \"history\" },\n",
    "    { \"_id\": \"rec48\", \"chunk_text\": \"Vincent van Gogh painted Starry Night.\", \"category\": \"art\" },\n",
    "    { \"_id\": \"rec49\", \"chunk_text\": \"Airplanes fly due to the principles of lift and aerodynamics.\", \"category\": \"physics\" },\n",
    "    { \"_id\": \"rec50\", \"chunk_text\": \"Renewable energy sources include wind, solar, and hydroelectric power.\", \"category\": \"energy\" }\n",
    "]"
   ]
  },
  {
   "cell_type": "code",
   "execution_count": 4,
   "metadata": {},
   "outputs": [],
   "source": [
    "# Select an index to store the records in\n",
    "dense_index = client.Index(index_name)\n",
    "\n",
    "# Upsert (store) the records in the namespace\n",
    "dense_index.upsert_records(\"example-namespace\", records)"
   ]
  },
  {
   "cell_type": "code",
   "execution_count": 5,
   "metadata": {},
   "outputs": [],
   "source": [
    "import time\n",
    "time.sleep(10)\n",
    "\n",
    "# View stats for the current index\n",
    "stats = dense_index.describe_index_stats()"
   ]
  },
  {
   "cell_type": "code",
   "execution_count": 6,
   "metadata": {},
   "outputs": [
    {
     "data": {
      "text/plain": [
       "{'dimension': 1024,\n",
       " 'index_fullness': 0.0,\n",
       " 'metric': 'cosine',\n",
       " 'namespaces': {'example-namespace': {'vector_count': 50}},\n",
       " 'total_vector_count': 50,\n",
       " 'vector_type': 'dense'}"
      ]
     },
     "execution_count": 6,
     "metadata": {},
     "output_type": "execute_result"
    }
   ],
   "source": [
    "stats"
   ]
  },
  {
   "cell_type": "code",
   "execution_count": 14,
   "metadata": {},
   "outputs": [
    {
     "name": "stdout",
     "output_type": "stream",
     "text": [
      "id: rec17 | score:  0.28 | category: history    | text: The Pyramids of Giza are among the Seven Wonders of the Ancient World.\n",
      "id: rec38 | score:  0.19 | category: history    | text: The Taj Mahal is a mausoleum built by Emperor Shah Jahan.\n",
      "id: rec5  | score:  0.18 | category: literature | text: Shakespeare wrote many famous plays, including Hamlet and Macbeth.\n",
      "id: rec15 | score:  0.1  | category: art        | text: Leonardo da Vinci painted the Mona Lisa.          \n",
      "id: rec50 | score:  0.09 | category: energy     | text: Renewable energy sources include wind, solar, and hydroelectric power.\n",
      "id: rec1  | score:  0.08 | category: history    | text: The Eiffel Tower was completed in 1889 and stands in Paris, France.\n",
      "id: rec26 | score:  0.08 | category: history    | text: Rome was once the center of a vast empire.        \n",
      "id: rec7  | score:  0.08 | category: history    | text: The Great Wall of China was built to protect against invasions.\n",
      "id: rec47 | score:  0.07 | category: history    | text: The Industrial Revolution transformed manufacturing and transportation.\n",
      "id: rec21 | score:  0.06 | category: history    | text: The Statue of Liberty was a gift from France to the United States.\n"
     ]
    }
   ],
   "source": [
    "query = \"Famous historical structures and monuments\"\n",
    "\n",
    "# Search the dense index for results similar to the queries\n",
    "results = dense_index.search(\n",
    "    namespace=\"example-namespace\",  # The namespace to execute the query in\n",
    "    query={\n",
    "        \"top_k\":10,  # Number of results to return\n",
    "        \"inputs\":{\n",
    "            \"text\": query  # The text being queried\n",
    "        }\n",
    "    }\n",
    ")\n",
    "\n",
    "for hit in results[\"result\"][\"hits\"]:\n",
    "    print(f\"id: {hit['_id']:<5} | score: {round(hit['_score'], 2):< 5} | category: {hit['fields']['category']:<10} | text: {hit['fields']['chunk_text']:<50}\")\n",
    "    "
   ]
  },
  {
   "cell_type": "code",
   "execution_count": 15,
   "metadata": {},
   "outputs": [
    {
     "name": "stdout",
     "output_type": "stream",
     "text": [
      "id: rec1  | score:  0.11 | category: history    | text: The Eiffel Tower was completed in 1889 and stands in Paris, France.\n",
      "id: rec38 | score:  0.06 | category: history    | text: The Taj Mahal is a mausoleum built by Emperor Shah Jahan.\n",
      "id: rec7  | score:  0.06 | category: history    | text: The Great Wall of China was built to protect against invasions.\n",
      "id: rec21 | score:  0.02 | category: history    | text: The Statue of Liberty was a gift from France to the United States.\n",
      "id: rec17 | score:  0.02 | category: history    | text: The Pyramids of Giza are among the Seven Wonders of the Ancient World.\n",
      "id: rec26 | score:  0.01 | category: history    | text: Rome was once the center of a vast empire.        \n",
      "id: rec15 | score:  0.01 | category: art        | text: Leonardo da Vinci painted the Mona Lisa.          \n",
      "id: rec5  | score:  0.0  | category: literature | text: Shakespeare wrote many famous plays, including Hamlet and Macbeth.\n",
      "id: rec47 | score:  0.0  | category: history    | text: The Industrial Revolution transformed manufacturing and transportation.\n",
      "id: rec50 | score:  0.0  | category: energy     | text: Renewable energy sources include wind, solar, and hydroelectric power.\n"
     ]
    }
   ],
   "source": [
    "# Search the dense index for results similar to the queries but re-rank them according to relevance\n",
    "results = dense_index.search(\n",
    "    namespace=\"example-namespace\",  # The namespace to execute the query in\n",
    "    query={\n",
    "        \"top_k\":10,  # Number of results to return\n",
    "        \"inputs\":{\n",
    "            \"text\": query  # The text being queried\n",
    "        }\n",
    "    },\n",
    "    rerank={\n",
    "        \"model\":\"bge-reranker-v2-m3\",  # Model to use\n",
    "        \"top_n\":10,  # Number of results to rerank\n",
    "        \"rank_fields\":[\"chunk_text\"]  # Field to rerank\n",
    "    }\n",
    ")\n",
    "\n",
    "for hit in results[\"result\"][\"hits\"]:\n",
    "    print(f\"id: {hit['_id']:<5} | score: {round(hit['_score'], 2):< 5} | category: {hit['fields']['category']:<10} | text: {hit['fields']['chunk_text']:<50}\")\n",
    "\n"
   ]
  },
  {
   "cell_type": "code",
   "execution_count": 16,
   "metadata": {},
   "outputs": [],
   "source": [
    "# Delete the index\n",
    "client.delete_index(index_name)"
   ]
  },
  {
   "cell_type": "code",
   "execution_count": 28,
   "metadata": {},
   "outputs": [
    {
     "name": "stdout",
     "output_type": "stream",
     "text": [
      "{'messages': [HumanMessage(content='what is the weather in sf?', additional_kwargs={}, response_metadata={}, id='8401aa35-06ef-4232-ae47-99dbdf043ec2'), AIMessage(content='', additional_kwargs={'function_call': {'name': 'get_weather', 'arguments': '{\"city\": \"San Francisco\"}'}}, response_metadata={'prompt_feedback': {'block_reason': 0, 'safety_ratings': []}, 'finish_reason': 'STOP', 'model_name': 'gemini-2.5-flash', 'safety_ratings': []}, id='run--0abb3de3-e59d-44b3-8f40-fcce2cc1a4b0-0', tool_calls=[{'name': 'get_weather', 'args': {'city': 'San Francisco'}, 'id': '6b4921d2-53c2-449b-9404-2886d094d9ef', 'type': 'tool_call'}], usage_metadata={'input_tokens': 46, 'output_tokens': 81, 'total_tokens': 127, 'input_token_details': {'cache_read': 0}, 'output_token_details': {'reasoning': 65}}), ToolMessage(content=\"It's always sunny in San Francisco!\", name='get_weather', id='9a8839a6-6ae8-4594-b273-6175fd9a8e85', tool_call_id='6b4921d2-53c2-449b-9404-2886d094d9ef'), AIMessage(content=\"It's always sunny in San Francisco!\", additional_kwargs={}, response_metadata={'prompt_feedback': {'block_reason': 0, 'safety_ratings': []}, 'finish_reason': 'STOP', 'model_name': 'gemini-2.5-flash', 'safety_ratings': []}, id='run--c45fad08-fa4f-4db0-8ce2-a1ef571efe43-0', usage_metadata={'input_tokens': 85, 'output_tokens': 9, 'total_tokens': 94, 'input_token_details': {'cache_read': 0}})]}\n"
     ]
    }
   ],
   "source": [
    "\n",
    "\n",
    "# Define a custom tool to be used by the agent\n",
    "def get_weather(city:str) -> str:\n",
    "    \"\"\"Get Weather for a given city\"\"\"\n",
    "    return f\"It's always sunny in {city}!\"\n",
    "\n",
    "# Create the agent using the model and the tool\n",
    "agent = create_react_agent(\n",
    "    model=llm,\n",
    "    tools=[get_weather]\n",
    ")\n",
    "\n",
    "# Make a call to the llm and print the response\n",
    "resp = agent.invoke(\n",
    "    {\"messages\":[{\"role\":\"user\",\"content\":\"what is the weather in sf?\"}]}\n",
    ")\n",
    "\n",
    "print(resp)"
   ]
  },
  {
   "cell_type": "code",
   "execution_count": 3,
   "metadata": {},
   "outputs": [
    {
     "name": "stdout",
     "output_type": "stream",
     "text": [
      "4\n"
     ]
    }
   ],
   "source": [
    "from pypdf import PdfReader\n",
    "\n",
    "# Create a pdf reader object\n",
    "reader = PdfReader(\"C:\\\\Users\\\\Zafar\\\\Downloads\\\\AIML_Task_1[1].pdf\")\n",
    "\n",
    "# Print number of pages in pdf file\n",
    "print(len(reader.pages))"
   ]
  },
  {
   "cell_type": "code",
   "execution_count": 4,
   "metadata": {},
   "outputs": [
    {
     "name": "stdout",
     "output_type": "stream",
     "text": [
      "SPADES AI/ML – Project 1\n",
      "Building a LangChain-based AI Agent using Gemini API\n",
      "Objective\n",
      "The purpose of this task is to help you gain hands-on familiarity with:\n",
      "•Setting up and using theGemini API (Free Tier)for LLM access.\n",
      "•Building a modularAI Agentusing theLangChainframework.\n",
      "•Integrating tools that extend model capabilities:\n",
      "1.Tavily Search Tool– for real-time web retrieval.\n",
      "2.Retrieval-Augmented Generation (RAG) Tool– using embeddings from\n",
      "HuggingFaceand vector storage viaPinecone.\n",
      "•Creating a simple and functionalGradio frontendfor user interaction.\n",
      "1. High-Level Description\n",
      "Your task is to design an intelligent chatbot that:\n",
      "•UsesLangChainas its orchestration framework.\n",
      "•EmploysGemini(Google’s multimodal LLM) as the reasoning backbone.\n",
      "•Incorporates two tools:\n",
      "1. TheTavily Search Toolto answer questions requiring external, real-time\n",
      "information.\n",
      "2. ARAG pipelinethat embeds and retrieves context using HuggingFace mod-\n",
      "els and Pinecone.\n",
      "•Presents responses interactively through aGradio web interface.\n",
      "You are expected to set up each component independently, referring to official docu-\n",
      "mentation as needed.\n",
      "1\n"
     ]
    }
   ],
   "source": [
    "# Create a page object\n",
    "page = reader.pages[0]\n",
    "\n",
    "# Extract text from the page\n",
    "print(page.extract_text())"
   ]
  },
  {
   "cell_type": "code",
   "execution_count": 10,
   "metadata": {},
   "outputs": [],
   "source": [
    "from pinecone import Pinecone, ServerlessSpec\n",
    "\n",
    "# Initialize a Pinecone client\n",
    "client = Pinecone(api_key=\"\")"
   ]
  },
  {
   "cell_type": "code",
   "execution_count": 3,
   "metadata": {},
   "outputs": [],
   "source": [
    "from sentence_transformers import SentenceTransformer\n",
    "\n",
    "# Load the model for generating sentence embeddings\n",
    "model = SentenceTransformer(\"sentence-transformers/all-MiniLM-L6-v2\")"
   ]
  },
  {
   "cell_type": "code",
   "execution_count": 8,
   "metadata": {},
   "outputs": [
    {
     "name": "stdout",
     "output_type": "stream",
     "text": [
      "384\n"
     ]
    }
   ],
   "source": [
    "sentences = [\"This is an example sentence\", \"Each sentence is converted\", \"apple\", \"banana\", \"windows\", \"android\"]\n",
    "\n",
    "# Convert each sentence to a word embedding\n",
    "embeddings = model.encode(sentences)\n"
   ]
  },
  {
   "cell_type": "code",
   "execution_count": 12,
   "metadata": {},
   "outputs": [],
   "source": [
    "# Create a dense index with seperate embeddings\n",
    "index_name = \"storage-py\"\n",
    "\n",
    "# If the index does not already exist\n",
    "if not client.has_index(index_name):\n",
    "    client.create_index(\n",
    "        name = index_name,\n",
    "        dimension=384,\n",
    "        metric=\"cosine\",\n",
    "        spec=ServerlessSpec(\n",
    "            cloud=\"aws\",\n",
    "            region=\"us-east-1\",\n",
    "        ),\n",
    "    )"
   ]
  },
  {
   "cell_type": "code",
   "execution_count": 64,
   "metadata": {},
   "outputs": [],
   "source": [
    "records = []\n",
    "for i in range(len(embeddings)):\n",
    "    records.append({\"id\":\"vec\"+str(i+1),\"values\":embeddings[i].tolist(), \"metadata\":{\"sentence\":sentences[i]}})\n"
   ]
  },
  {
   "cell_type": "code",
   "execution_count": 65,
   "metadata": {},
   "outputs": [
    {
     "data": {
      "text/plain": [
       "{'upserted_count': 6}"
      ]
     },
     "execution_count": 65,
     "metadata": {},
     "output_type": "execute_result"
    }
   ],
   "source": [
    "# Target the index\n",
    "dense_index = client.Index(index_name)\n",
    "\n",
    "\n",
    "# Upsert the records into a namespace\n",
    "dense_index.upsert(namespace=\"example-namespace\", vectors=records)"
   ]
  },
  {
   "cell_type": "code",
   "execution_count": 66,
   "metadata": {},
   "outputs": [
    {
     "name": "stdout",
     "output_type": "stream",
     "text": [
      "{'dimension': 384,\n",
      " 'index_fullness': 0.0,\n",
      " 'metric': 'cosine',\n",
      " 'namespaces': {'example-namespace': {'vector_count': 6}},\n",
      " 'total_vector_count': 6,\n",
      " 'vector_type': 'dense'}\n"
     ]
    }
   ],
   "source": [
    "stats = dense_index.describe_index_stats()\n",
    "print(stats)"
   ]
  },
  {
   "cell_type": "code",
   "execution_count": 71,
   "metadata": {},
   "outputs": [
    {
     "name": "stderr",
     "output_type": "stream",
     "text": [
      "d:\\Codes\\ai-engineer-roadmap-2025\\.venv\\lib\\site-packages\\torch\\nn\\modules\\module.py:1762: FutureWarning: `encoder_attention_mask` is deprecated and will be removed in version 4.55.0 for `BertSdpaSelfAttention.forward`.\n",
      "  return forward_call(*args, **kwargs)\n"
     ]
    }
   ],
   "source": [
    "query = model.encode(\"orange\").tolist()\n",
    "results = dense_index.query(\n",
    "    namespace=\"example-namespace\",\n",
    "    vector = query,\n",
    "    top_k=3,\n",
    "    include_values=True,\n",
    "    include_metadata=True\n",
    ")"
   ]
  },
  {
   "cell_type": "code",
   "execution_count": 74,
   "metadata": {},
   "outputs": [
    {
     "name": "stdout",
     "output_type": "stream",
     "text": [
      "Sentence: banana  |  Score:  0.518210411\n",
      "Sentence: apple  |  Score:  0.372343063\n",
      "Sentence: windows  |  Score:  0.353139877\n"
     ]
    }
   ],
   "source": [
    "for hit in results[\"matches\"]:\n",
    "    print(\"Sentence:\", hit[\"metadata\"][\"sentence\"], \" | \", \"Score: \", hit[\"score\"])"
   ]
  },
  {
   "cell_type": "code",
   "execution_count": null,
   "metadata": {},
   "outputs": [],
   "source": []
  }
 ],
 "metadata": {
  "kernelspec": {
   "display_name": ".venv (3.10.11)",
   "language": "python",
   "name": "python3"
  },
  "language_info": {
   "codemirror_mode": {
    "name": "ipython",
    "version": 3
   },
   "file_extension": ".py",
   "mimetype": "text/x-python",
   "name": "python",
   "nbconvert_exporter": "python",
   "pygments_lexer": "ipython3",
   "version": "3.10.11"
  }
 },
 "nbformat": 4,
 "nbformat_minor": 2
}
